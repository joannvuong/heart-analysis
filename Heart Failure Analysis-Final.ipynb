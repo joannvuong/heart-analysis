{
 "cells": [
  {
   "cell_type": "markdown",
   "metadata": {},
   "source": [
    "**Import libraries and load data**"
   ]
  },
  {
   "cell_type": "code",
   "execution_count": 1,
   "metadata": {},
   "outputs": [],
   "source": [
    "# Importing the libraries\n",
    "import pandas as pd\n",
    "import numpy as np\n",
    "import matplotlib.pyplot as plt\n",
    "import seaborn as sns\n",
    "import warnings\n",
    "warnings.filterwarnings('ignore')\n",
    "\n",
    "from sklearn.utils import resample\n",
    "from sklearn.model_selection import train_test_split, StratifiedKFold, RandomizedSearchCV\n",
    "from sklearn.impute import SimpleImputer\n",
    "from sklearn.preprocessing import StandardScaler\n",
    "from sklearn.linear_model import LogisticRegression\n",
    "from sklearn.svm import SVC\n",
    "\n",
    "from sklearn.ensemble import RandomForestClassifier\n",
    "from sklearn.metrics import f1_score"
   ]
  },
  {
   "cell_type": "code",
   "execution_count": 4,
   "metadata": {},
   "outputs": [],
   "source": [
    "#import csv\n",
    "pd.set_option('display.max_colwidth', None)\n",
    "pd.set_option('display.max_columns', None)  \n",
    "# data = pd.read_csv('./heart_failure_dataset.csv')"
   ]
  },
  {
   "cell_type": "markdown",
   "metadata": {},
   "source": [
    "**Data exploration and pre-processing**"
   ]
  },
  {
   "cell_type": "code",
   "execution_count": 3,
   "metadata": {
    "scrolled": true
   },
   "outputs": [
    {
     "data": {
      "text/html": [
       "<div>\n",
       "<style scoped>\n",
       "    .dataframe tbody tr th:only-of-type {\n",
       "        vertical-align: middle;\n",
       "    }\n",
       "\n",
       "    .dataframe tbody tr th {\n",
       "        vertical-align: top;\n",
       "    }\n",
       "\n",
       "    .dataframe thead th {\n",
       "        text-align: right;\n",
       "    }\n",
       "</style>\n",
       "<table border=\"1\" class=\"dataframe\">\n",
       "  <thead>\n",
       "    <tr style=\"text-align: right;\">\n",
       "      <th></th>\n",
       "      <th>patient_identifier</th>\n",
       "      <th>age</th>\n",
       "      <th>anemia</th>\n",
       "      <th>creatinine_phosphokinase</th>\n",
       "      <th>diabetes</th>\n",
       "      <th>ejection_fraction</th>\n",
       "      <th>high_blood_pressure</th>\n",
       "      <th>platelets</th>\n",
       "      <th>serum_creatinine</th>\n",
       "      <th>serum_sodium</th>\n",
       "      <th>sex</th>\n",
       "      <th>current_smoker</th>\n",
       "      <th>room_number</th>\n",
       "      <th>hospital</th>\n",
       "      <th>DEATH_EVENT</th>\n",
       "    </tr>\n",
       "  </thead>\n",
       "  <tbody>\n",
       "    <tr>\n",
       "      <th>0</th>\n",
       "      <td>104</td>\n",
       "      <td>75.0</td>\n",
       "      <td>No</td>\n",
       "      <td>582</td>\n",
       "      <td>NaN</td>\n",
       "      <td>20</td>\n",
       "      <td>Yes</td>\n",
       "      <td>265000.00</td>\n",
       "      <td>1.9</td>\n",
       "      <td>130</td>\n",
       "      <td>male</td>\n",
       "      <td>No</td>\n",
       "      <td>685p</td>\n",
       "      <td>Fairview Range</td>\n",
       "      <td>1</td>\n",
       "    </tr>\n",
       "    <tr>\n",
       "      <th>1</th>\n",
       "      <td>105</td>\n",
       "      <td>55.0</td>\n",
       "      <td>No</td>\n",
       "      <td>7861</td>\n",
       "      <td>NaN</td>\n",
       "      <td>38</td>\n",
       "      <td>No</td>\n",
       "      <td>263358.03</td>\n",
       "      <td>1.1</td>\n",
       "      <td>136</td>\n",
       "      <td>Male</td>\n",
       "      <td>No</td>\n",
       "      <td>930F</td>\n",
       "      <td>NaN</td>\n",
       "      <td>1</td>\n",
       "    </tr>\n",
       "    <tr>\n",
       "      <th>2</th>\n",
       "      <td>106</td>\n",
       "      <td>65.0</td>\n",
       "      <td>No</td>\n",
       "      <td>146</td>\n",
       "      <td>NaN</td>\n",
       "      <td>20</td>\n",
       "      <td>No</td>\n",
       "      <td>162000.00</td>\n",
       "      <td>1.3</td>\n",
       "      <td>129</td>\n",
       "      <td>Male</td>\n",
       "      <td>Yes</td>\n",
       "      <td>995i</td>\n",
       "      <td>NaN</td>\n",
       "      <td>1</td>\n",
       "    </tr>\n",
       "    <tr>\n",
       "      <th>3</th>\n",
       "      <td>107</td>\n",
       "      <td>50.0</td>\n",
       "      <td>Yes</td>\n",
       "      <td>111</td>\n",
       "      <td>NaN</td>\n",
       "      <td>20</td>\n",
       "      <td>No</td>\n",
       "      <td>210000.00</td>\n",
       "      <td>1.9</td>\n",
       "      <td>137</td>\n",
       "      <td>Male</td>\n",
       "      <td>No</td>\n",
       "      <td>562J</td>\n",
       "      <td>NaN</td>\n",
       "      <td>1</td>\n",
       "    </tr>\n",
       "    <tr>\n",
       "      <th>4</th>\n",
       "      <td>108</td>\n",
       "      <td>65.0</td>\n",
       "      <td>Yes</td>\n",
       "      <td>160</td>\n",
       "      <td>NaN</td>\n",
       "      <td>20</td>\n",
       "      <td>No</td>\n",
       "      <td>327000.00</td>\n",
       "      <td>2.7</td>\n",
       "      <td>116</td>\n",
       "      <td>Female</td>\n",
       "      <td>No</td>\n",
       "      <td>175D</td>\n",
       "      <td>Brandywine Hospital</td>\n",
       "      <td>1</td>\n",
       "    </tr>\n",
       "    <tr>\n",
       "      <th>5</th>\n",
       "      <td>109</td>\n",
       "      <td>90.0</td>\n",
       "      <td>Yes</td>\n",
       "      <td>47</td>\n",
       "      <td>No</td>\n",
       "      <td>40</td>\n",
       "      <td>Yes</td>\n",
       "      <td>204000.00</td>\n",
       "      <td>2.1</td>\n",
       "      <td>132</td>\n",
       "      <td>Male</td>\n",
       "      <td>Yes</td>\n",
       "      <td>902g</td>\n",
       "      <td>NaN</td>\n",
       "      <td>1</td>\n",
       "    </tr>\n",
       "    <tr>\n",
       "      <th>6</th>\n",
       "      <td>110</td>\n",
       "      <td>75.0</td>\n",
       "      <td>Yes</td>\n",
       "      <td>246</td>\n",
       "      <td>No</td>\n",
       "      <td>15</td>\n",
       "      <td>No</td>\n",
       "      <td>127000.00</td>\n",
       "      <td>1.2</td>\n",
       "      <td>137</td>\n",
       "      <td>Male</td>\n",
       "      <td>No</td>\n",
       "      <td>111e</td>\n",
       "      <td>NaN</td>\n",
       "      <td>1</td>\n",
       "    </tr>\n",
       "    <tr>\n",
       "      <th>7</th>\n",
       "      <td>111</td>\n",
       "      <td>60.0</td>\n",
       "      <td>Yes</td>\n",
       "      <td>315</td>\n",
       "      <td>Yes</td>\n",
       "      <td>60</td>\n",
       "      <td>No</td>\n",
       "      <td>454000.00</td>\n",
       "      <td>1.1</td>\n",
       "      <td>131</td>\n",
       "      <td>Male</td>\n",
       "      <td>Yes</td>\n",
       "      <td>153y</td>\n",
       "      <td>NaN</td>\n",
       "      <td>1</td>\n",
       "    </tr>\n",
       "    <tr>\n",
       "      <th>8</th>\n",
       "      <td>112</td>\n",
       "      <td>65.0</td>\n",
       "      <td>No</td>\n",
       "      <td>157</td>\n",
       "      <td>No</td>\n",
       "      <td>65</td>\n",
       "      <td>No</td>\n",
       "      <td>263358.03</td>\n",
       "      <td>1.5</td>\n",
       "      <td>138</td>\n",
       "      <td>female</td>\n",
       "      <td>No</td>\n",
       "      <td>836b</td>\n",
       "      <td>NaN</td>\n",
       "      <td>1</td>\n",
       "    </tr>\n",
       "    <tr>\n",
       "      <th>9</th>\n",
       "      <td>113</td>\n",
       "      <td>NaN</td>\n",
       "      <td>Yes</td>\n",
       "      <td>123</td>\n",
       "      <td>No</td>\n",
       "      <td>35</td>\n",
       "      <td>Yes</td>\n",
       "      <td>388000.00</td>\n",
       "      <td>9.4</td>\n",
       "      <td>133</td>\n",
       "      <td>Male</td>\n",
       "      <td>Yes</td>\n",
       "      <td>117r</td>\n",
       "      <td>NaN</td>\n",
       "      <td>1</td>\n",
       "    </tr>\n",
       "  </tbody>\n",
       "</table>\n",
       "</div>"
      ],
      "text/plain": [
       "   patient_identifier   age anemia  creatinine_phosphokinase diabetes  \\\n",
       "0                 104  75.0     No                       582      NaN   \n",
       "1                 105  55.0     No                      7861      NaN   \n",
       "2                 106  65.0     No                       146      NaN   \n",
       "3                 107  50.0    Yes                       111      NaN   \n",
       "4                 108  65.0    Yes                       160      NaN   \n",
       "5                 109  90.0    Yes                        47       No   \n",
       "6                 110  75.0    Yes                       246       No   \n",
       "7                 111  60.0    Yes                       315      Yes   \n",
       "8                 112  65.0     No                       157       No   \n",
       "9                 113   NaN    Yes                       123       No   \n",
       "\n",
       "   ejection_fraction high_blood_pressure  platelets  serum_creatinine  \\\n",
       "0                 20                 Yes  265000.00               1.9   \n",
       "1                 38                  No  263358.03               1.1   \n",
       "2                 20                  No  162000.00               1.3   \n",
       "3                 20                  No  210000.00               1.9   \n",
       "4                 20                  No  327000.00               2.7   \n",
       "5                 40                 Yes  204000.00               2.1   \n",
       "6                 15                  No  127000.00               1.2   \n",
       "7                 60                  No  454000.00               1.1   \n",
       "8                 65                  No  263358.03               1.5   \n",
       "9                 35                 Yes  388000.00               9.4   \n",
       "\n",
       "   serum_sodium     sex current_smoker room_number             hospital  \\\n",
       "0           130    male             No        685p       Fairview Range   \n",
       "1           136    Male             No        930F                  NaN   \n",
       "2           129    Male            Yes        995i                  NaN   \n",
       "3           137    Male             No        562J                  NaN   \n",
       "4           116  Female             No        175D  Brandywine Hospital   \n",
       "5           132    Male            Yes        902g                  NaN   \n",
       "6           137    Male             No        111e                  NaN   \n",
       "7           131    Male            Yes        153y                  NaN   \n",
       "8           138  female             No        836b                  NaN   \n",
       "9           133    Male            Yes        117r                  NaN   \n",
       "\n",
       "   DEATH_EVENT  \n",
       "0            1  \n",
       "1            1  \n",
       "2            1  \n",
       "3            1  \n",
       "4            1  \n",
       "5            1  \n",
       "6            1  \n",
       "7            1  \n",
       "8            1  \n",
       "9            1  "
      ]
     },
     "execution_count": 3,
     "metadata": {},
     "output_type": "execute_result"
    }
   ],
   "source": [
    "#analyzing 5 rows\n",
    "data.head(10)"
   ]
  },
  {
   "cell_type": "code",
   "execution_count": 4,
   "metadata": {},
   "outputs": [
    {
     "name": "stdout",
     "output_type": "stream",
     "text": [
      "alive count:  203 \n",
      "dead count:  96\n",
      "total:  299\n"
     ]
    }
   ],
   "source": [
    "#finding value counts of patients who are alive or dead\n",
    "alive_count = data[\"DEATH_EVENT\"].value_counts()[0]\n",
    "dead_count = data[\"DEATH_EVENT\"].value_counts()[1]\n",
    "print('alive count: ', alive_count, '\\ndead count: ', dead_count)\n",
    "print('total: ', alive_count + dead_count)"
   ]
  },
  {
   "cell_type": "markdown",
   "metadata": {},
   "source": [
    "*Note:* imbalanced data"
   ]
  },
  {
   "cell_type": "code",
   "execution_count": 5,
   "metadata": {},
   "outputs": [
    {
     "data": {
      "text/html": [
       "<div>\n",
       "<style scoped>\n",
       "    .dataframe tbody tr th:only-of-type {\n",
       "        vertical-align: middle;\n",
       "    }\n",
       "\n",
       "    .dataframe tbody tr th {\n",
       "        vertical-align: top;\n",
       "    }\n",
       "\n",
       "    .dataframe thead th {\n",
       "        text-align: right;\n",
       "    }\n",
       "</style>\n",
       "<table border=\"1\" class=\"dataframe\">\n",
       "  <thead>\n",
       "    <tr style=\"text-align: right;\">\n",
       "      <th></th>\n",
       "      <th>patient_identifier</th>\n",
       "      <th>age</th>\n",
       "      <th>creatinine_phosphokinase</th>\n",
       "      <th>ejection_fraction</th>\n",
       "      <th>platelets</th>\n",
       "      <th>serum_creatinine</th>\n",
       "      <th>serum_sodium</th>\n",
       "      <th>DEATH_EVENT</th>\n",
       "    </tr>\n",
       "  </thead>\n",
       "  <tbody>\n",
       "    <tr>\n",
       "      <th>count</th>\n",
       "      <td>299.000000</td>\n",
       "      <td>284.000000</td>\n",
       "      <td>299.000000</td>\n",
       "      <td>299.000000</td>\n",
       "      <td>269.000000</td>\n",
       "      <td>299.00000</td>\n",
       "      <td>299.000000</td>\n",
       "      <td>299.00000</td>\n",
       "    </tr>\n",
       "    <tr>\n",
       "      <th>mean</th>\n",
       "      <td>253.000000</td>\n",
       "      <td>60.684275</td>\n",
       "      <td>581.839465</td>\n",
       "      <td>71.143813</td>\n",
       "      <td>262713.943309</td>\n",
       "      <td>1.39388</td>\n",
       "      <td>136.625418</td>\n",
       "      <td>0.32107</td>\n",
       "    </tr>\n",
       "    <tr>\n",
       "      <th>std</th>\n",
       "      <td>86.458082</td>\n",
       "      <td>11.838267</td>\n",
       "      <td>970.287881</td>\n",
       "      <td>576.258182</td>\n",
       "      <td>97783.335019</td>\n",
       "      <td>1.03451</td>\n",
       "      <td>4.412477</td>\n",
       "      <td>0.46767</td>\n",
       "    </tr>\n",
       "    <tr>\n",
       "      <th>min</th>\n",
       "      <td>104.000000</td>\n",
       "      <td>40.000000</td>\n",
       "      <td>23.000000</td>\n",
       "      <td>-20.000000</td>\n",
       "      <td>25100.000000</td>\n",
       "      <td>0.50000</td>\n",
       "      <td>113.000000</td>\n",
       "      <td>0.00000</td>\n",
       "    </tr>\n",
       "    <tr>\n",
       "      <th>25%</th>\n",
       "      <td>178.500000</td>\n",
       "      <td>50.000000</td>\n",
       "      <td>116.500000</td>\n",
       "      <td>30.000000</td>\n",
       "      <td>211000.000000</td>\n",
       "      <td>0.90000</td>\n",
       "      <td>134.000000</td>\n",
       "      <td>0.00000</td>\n",
       "    </tr>\n",
       "    <tr>\n",
       "      <th>50%</th>\n",
       "      <td>253.000000</td>\n",
       "      <td>60.000000</td>\n",
       "      <td>250.000000</td>\n",
       "      <td>38.000000</td>\n",
       "      <td>262000.000000</td>\n",
       "      <td>1.10000</td>\n",
       "      <td>137.000000</td>\n",
       "      <td>0.00000</td>\n",
       "    </tr>\n",
       "    <tr>\n",
       "      <th>75%</th>\n",
       "      <td>327.500000</td>\n",
       "      <td>69.000000</td>\n",
       "      <td>582.000000</td>\n",
       "      <td>45.000000</td>\n",
       "      <td>302000.000000</td>\n",
       "      <td>1.40000</td>\n",
       "      <td>140.000000</td>\n",
       "      <td>1.00000</td>\n",
       "    </tr>\n",
       "    <tr>\n",
       "      <th>max</th>\n",
       "      <td>402.000000</td>\n",
       "      <td>95.000000</td>\n",
       "      <td>7861.000000</td>\n",
       "      <td>10000.000000</td>\n",
       "      <td>850000.000000</td>\n",
       "      <td>9.40000</td>\n",
       "      <td>148.000000</td>\n",
       "      <td>1.00000</td>\n",
       "    </tr>\n",
       "  </tbody>\n",
       "</table>\n",
       "</div>"
      ],
      "text/plain": [
       "       patient_identifier         age  creatinine_phosphokinase  \\\n",
       "count          299.000000  284.000000                299.000000   \n",
       "mean           253.000000   60.684275                581.839465   \n",
       "std             86.458082   11.838267                970.287881   \n",
       "min            104.000000   40.000000                 23.000000   \n",
       "25%            178.500000   50.000000                116.500000   \n",
       "50%            253.000000   60.000000                250.000000   \n",
       "75%            327.500000   69.000000                582.000000   \n",
       "max            402.000000   95.000000               7861.000000   \n",
       "\n",
       "       ejection_fraction      platelets  serum_creatinine  serum_sodium  \\\n",
       "count         299.000000     269.000000         299.00000    299.000000   \n",
       "mean           71.143813  262713.943309           1.39388    136.625418   \n",
       "std           576.258182   97783.335019           1.03451      4.412477   \n",
       "min           -20.000000   25100.000000           0.50000    113.000000   \n",
       "25%            30.000000  211000.000000           0.90000    134.000000   \n",
       "50%            38.000000  262000.000000           1.10000    137.000000   \n",
       "75%            45.000000  302000.000000           1.40000    140.000000   \n",
       "max         10000.000000  850000.000000           9.40000    148.000000   \n",
       "\n",
       "       DEATH_EVENT  \n",
       "count    299.00000  \n",
       "mean       0.32107  \n",
       "std        0.46767  \n",
       "min        0.00000  \n",
       "25%        0.00000  \n",
       "50%        0.00000  \n",
       "75%        1.00000  \n",
       "max        1.00000  "
      ]
     },
     "execution_count": 5,
     "metadata": {},
     "output_type": "execute_result"
    }
   ],
   "source": [
    "data.describe()"
   ]
  },
  {
   "cell_type": "markdown",
   "metadata": {},
   "source": [
    "*Analysis:*\n",
    "- Age has a min of 40 yrs, mean of 60, and max of 95 years old.\n",
    "- creatinine_phosphokinase has a min of 23.0, mean of 250.0, and max of 7861.0 (possible outlier?)\n",
    "- ejection fraction has a min of -20.0 (outlier?), mean of 38.0 and max of 10000 (possible outlier?)\n",
    "- serum creatinine has a min of 0.50, mean of 1.10, and max of 9.40.\n",
    "- serum sodium has a min of 113.0, mean of 137.0, and 148.0.\n",
    "\n",
    "It seems as though the features for age, creatinine phosphokinase, ejection fraction, and serum creatinine may have possible outliers.  A further investigation using a boxplot may be ideal. "
   ]
  },
  {
   "cell_type": "code",
   "execution_count": 6,
   "metadata": {},
   "outputs": [
    {
     "data": {
      "image/png": "[encoded data removed]",
      "text/plain": [
       "<Figure size 432x288 with 1 Axes>"
      ]
     },
     "metadata": {
      "needs_background": "light"
     },
     "output_type": "display_data"
    }
   ],
   "source": [
    "#creating boxplot for creatinine phosphokinase\n",
    "sns.boxplot(x = data.creatinine_phosphokinase, color = 'teal')\n",
    "plt.show()"
   ]
  },
  {
   "cell_type": "code",
   "execution_count": 7,
   "metadata": {},
   "outputs": [
    {
     "data": {
      "image/png": "[encoded data removed]",
      "text/plain": [
       "<Figure size 432x288 with 1 Axes>"
      ]
     },
     "metadata": {
      "needs_background": "light"
     },
     "output_type": "display_data"
    }
   ],
   "source": [
    "#creating boxplot for serume creatinine\n",
    "sns.boxplot(x = data.serum_creatinine, color = 'red')\n",
    "plt.show()"
   ]
  },
  {
   "cell_type": "code",
   "execution_count": 8,
   "metadata": {},
   "outputs": [
    {
     "data": {
      "image/png": "[encoded data removed]",
      "text/plain": [
       "<Figure size 432x288 with 1 Axes>"
      ]
     },
     "metadata": {
      "needs_background": "light"
     },
     "output_type": "display_data"
    }
   ],
   "source": [
    "#creating boxplot for creatinine phosphokinase\n",
    "sns.boxplot(x = data.ejection_fraction, color = 'yellow')\n",
    "plt.show()"
   ]
  },
  {
   "cell_type": "code",
   "execution_count": 9,
   "metadata": {},
   "outputs": [
    {
     "data": {
      "text/html": [
       "<div>\n",
       "<style scoped>\n",
       "    .dataframe tbody tr th:only-of-type {\n",
       "        vertical-align: middle;\n",
       "    }\n",
       "\n",
       "    .dataframe tbody tr th {\n",
       "        vertical-align: top;\n",
       "    }\n",
       "\n",
       "    .dataframe thead th {\n",
       "        text-align: right;\n",
       "    }\n",
       "</style>\n",
       "<table border=\"1\" class=\"dataframe\">\n",
       "  <thead>\n",
       "    <tr style=\"text-align: right;\">\n",
       "      <th></th>\n",
       "      <th>patient_identifier</th>\n",
       "      <th>age</th>\n",
       "      <th>anemia</th>\n",
       "      <th>creatinine_phosphokinase</th>\n",
       "      <th>diabetes</th>\n",
       "      <th>ejection_fraction</th>\n",
       "      <th>high_blood_pressure</th>\n",
       "      <th>platelets</th>\n",
       "      <th>serum_creatinine</th>\n",
       "      <th>serum_sodium</th>\n",
       "      <th>sex</th>\n",
       "      <th>current_smoker</th>\n",
       "      <th>room_number</th>\n",
       "      <th>hospital</th>\n",
       "      <th>DEATH_EVENT</th>\n",
       "    </tr>\n",
       "  </thead>\n",
       "  <tbody>\n",
       "    <tr>\n",
       "      <th>34</th>\n",
       "      <td>138</td>\n",
       "      <td>65.0</td>\n",
       "      <td>No</td>\n",
       "      <td>94</td>\n",
       "      <td>NaN</td>\n",
       "      <td>-20</td>\n",
       "      <td>Yes</td>\n",
       "      <td>188000.0</td>\n",
       "      <td>1.0</td>\n",
       "      <td>140</td>\n",
       "      <td>Male</td>\n",
       "      <td>No</td>\n",
       "      <td>929d</td>\n",
       "      <td>AdventHealth</td>\n",
       "      <td>1</td>\n",
       "    </tr>\n",
       "    <tr>\n",
       "      <th>200</th>\n",
       "      <td>304</td>\n",
       "      <td>63.0</td>\n",
       "      <td>Yes</td>\n",
       "      <td>1767</td>\n",
       "      <td>NaN</td>\n",
       "      <td>10000</td>\n",
       "      <td>No</td>\n",
       "      <td>73000.0</td>\n",
       "      <td>0.7</td>\n",
       "      <td>137</td>\n",
       "      <td>male</td>\n",
       "      <td>No</td>\n",
       "      <td>257x</td>\n",
       "      <td>ACMH Hospital</td>\n",
       "      <td>0</td>\n",
       "    </tr>\n",
       "  </tbody>\n",
       "</table>\n",
       "</div>"
      ],
      "text/plain": [
       "     patient_identifier   age anemia  creatinine_phosphokinase diabetes  \\\n",
       "34                  138  65.0     No                        94      NaN   \n",
       "200                 304  63.0    Yes                      1767      NaN   \n",
       "\n",
       "     ejection_fraction high_blood_pressure  platelets  serum_creatinine  \\\n",
       "34                 -20                 Yes   188000.0               1.0   \n",
       "200              10000                  No    73000.0               0.7   \n",
       "\n",
       "     serum_sodium   sex current_smoker room_number       hospital  DEATH_EVENT  \n",
       "34            140  Male             No        929d   AdventHealth            1  \n",
       "200           137  male             No        257x  ACMH Hospital            0  "
      ]
     },
     "execution_count": 9,
     "metadata": {},
     "output_type": "execute_result"
    }
   ],
   "source": [
    "#Find values in ejection fraction that are less than 0 and more than 100%\n",
    "data.loc[(data['ejection_fraction'] <0) | (data['ejection_fraction'] >100)]"
   ]
  },
  {
   "cell_type": "code",
   "execution_count": 10,
   "metadata": {},
   "outputs": [],
   "source": [
    "#dropping noisy data points\n",
    "data = data.drop(labels=[34,200], axis=0)"
   ]
  },
  {
   "cell_type": "markdown",
   "metadata": {},
   "source": [
    "*Analysis:*\n",
    "- Upon further research, patients with serious diseases and illnesses can be seen with extremely high results. Therefore, the data points in the boxplot above are not outliers, as they are possible results in very ill patients. \n",
    "- For the ejection fraction percentage, there were 2 noisy data points that were not explainable and therefore were removed from the dataset. "
   ]
  },
  {
   "cell_type": "code",
   "execution_count": 11,
   "metadata": {},
   "outputs": [
    {
     "data": {
      "text/plain": [
       "(297, 15)"
      ]
     },
     "execution_count": 11,
     "metadata": {},
     "output_type": "execute_result"
    }
   ],
   "source": [
    "data.shape"
   ]
  },
  {
   "cell_type": "code",
   "execution_count": 12,
   "metadata": {},
   "outputs": [
    {
     "data": {
      "text/plain": [
       "Male      164\n",
       "Female     89\n",
       "male       22\n",
       "female     15\n",
       "M           6\n",
       "F           1\n",
       "Name: sex, dtype: int64"
      ]
     },
     "execution_count": 12,
     "metadata": {},
     "output_type": "execute_result"
    }
   ],
   "source": [
    "data['sex'].value_counts()"
   ]
  },
  {
   "cell_type": "code",
   "execution_count": 13,
   "metadata": {
    "scrolled": true
   },
   "outputs": [],
   "source": [
    "#converting all sexes to be a uniform str\n",
    "#for males\n",
    "data.sex[data.sex == 'Male'] = 'male'\n",
    "data.sex[data.sex == 'M'] = 'male'\n",
    "#for females\n",
    "data.sex[data.sex == 'Female'] = 'female'\n",
    "data.sex[data.sex == 'F'] = 'female'"
   ]
  },
  {
   "cell_type": "code",
   "execution_count": 14,
   "metadata": {},
   "outputs": [
    {
     "data": {
      "text/plain": [
       "male      192\n",
       "female    105\n",
       "Name: sex, dtype: int64"
      ]
     },
     "execution_count": 14,
     "metadata": {},
     "output_type": "execute_result"
    }
   ],
   "source": [
    "#double checking sexes for male and females.\n",
    "data['sex'].value_counts()"
   ]
  },
  {
   "cell_type": "code",
   "execution_count": 15,
   "metadata": {},
   "outputs": [
    {
     "data": {
      "text/plain": [
       "dtype('O')"
      ]
     },
     "execution_count": 15,
     "metadata": {},
     "output_type": "execute_result"
    }
   ],
   "source": [
    "data['sex'].dtypes"
   ]
  },
  {
   "cell_type": "code",
   "execution_count": 16,
   "metadata": {},
   "outputs": [],
   "source": [
    "#remove patient identifier\n",
    "data=data[data.columns[1:len(data.columns)]]"
   ]
  },
  {
   "cell_type": "code",
   "execution_count": 17,
   "metadata": {},
   "outputs": [
    {
     "data": {
      "text/plain": [
       "['anemia',\n",
       " 'diabetes',\n",
       " 'high_blood_pressure',\n",
       " 'sex',\n",
       " 'current_smoker',\n",
       " 'room_number',\n",
       " 'hospital']"
      ]
     },
     "execution_count": 17,
     "metadata": {},
     "output_type": "execute_result"
    }
   ],
   "source": [
    "#viewing the categorical columns\n",
    "cat_list=[]\n",
    "for col in data.columns:\n",
    "    if data[col].dtype=='object':\n",
    "        cat_list.append(col)\n",
    "cat_list"
   ]
  },
  {
   "cell_type": "code",
   "execution_count": 18,
   "metadata": {
    "scrolled": true
   },
   "outputs": [
    {
     "name": "stdout",
     "output_type": "stream",
     "text": [
      "No     169\n",
      "Yes    128\n",
      "Name: anemia, dtype: int64\n",
      "No     71\n",
      "Yes    49\n",
      "Name: diabetes, dtype: int64\n",
      "No     193\n",
      "Yes    104\n",
      "Name: high_blood_pressure, dtype: int64\n",
      "male      192\n",
      "female    105\n",
      "Name: sex, dtype: int64\n",
      "No     201\n",
      "Yes     96\n",
      "Name: current_smoker, dtype: int64\n",
      "386z    2\n",
      "912v    1\n",
      "363f    1\n",
      "493i    1\n",
      "264e    1\n",
      "       ..\n",
      "406l    1\n",
      "175D    1\n",
      "116m    1\n",
      "824X    1\n",
      "506f    1\n",
      "Name: room_number, Length: 296, dtype: int64\n",
      "Brandywine Hospital               15\n",
      "Fairview Range                    14\n",
      "ACMH Hospital                     14\n",
      "Dallas Regional Medical Center    12\n",
      "Bridgeport Hospital               12\n",
      "Baptist Medical Center South      11\n",
      "Brattleboro Memorial Hospital     11\n",
      "Holy Redeemer                     10\n",
      "AdventHealth                      10\n",
      "Aspirus Riverview Hospital         9\n",
      "Dameron Hospital                   9\n",
      "Altru Health System                7\n",
      "Danbury Hospital                   5\n",
      "Name: hospital, dtype: int64\n"
     ]
    }
   ],
   "source": [
    "#value counts of each categorical variable\n",
    "for col in cat_list:\n",
    "    print(data[col].value_counts())"
   ]
  },
  {
   "cell_type": "code",
   "execution_count": 19,
   "metadata": {
    "scrolled": true
   },
   "outputs": [],
   "source": [
    "#dropping room number, as it is not a valuable feature.\n",
    "#data.columns\n",
    "data = data.drop(['room_number'], axis=1)"
   ]
  },
  {
   "cell_type": "code",
   "execution_count": 20,
   "metadata": {},
   "outputs": [
    {
     "data": {
      "text/plain": [
       "age                          15\n",
       "anemia                        0\n",
       "creatinine_phosphokinase      0\n",
       "diabetes                    177\n",
       "ejection_fraction             0\n",
       "high_blood_pressure           0\n",
       "platelets                    30\n",
       "serum_creatinine              0\n",
       "serum_sodium                  0\n",
       "sex                           0\n",
       "current_smoker                0\n",
       "hospital                    158\n",
       "DEATH_EVENT                   0\n",
       "dtype: int64"
      ]
     },
     "execution_count": 20,
     "metadata": {},
     "output_type": "execute_result"
    }
   ],
   "source": [
    "#viewing all null values\n",
    "data.isnull().sum()"
   ]
  },
  {
   "cell_type": "code",
   "execution_count": 21,
   "metadata": {},
   "outputs": [
    {
     "data": {
      "text/html": [
       "<div>\n",
       "<style scoped>\n",
       "    .dataframe tbody tr th:only-of-type {\n",
       "        vertical-align: middle;\n",
       "    }\n",
       "\n",
       "    .dataframe tbody tr th {\n",
       "        vertical-align: top;\n",
       "    }\n",
       "\n",
       "    .dataframe thead th {\n",
       "        text-align: right;\n",
       "    }\n",
       "</style>\n",
       "<table border=\"1\" class=\"dataframe\">\n",
       "  <thead>\n",
       "    <tr style=\"text-align: right;\">\n",
       "      <th></th>\n",
       "      <th>age</th>\n",
       "      <th>creatinine_phosphokinase</th>\n",
       "      <th>ejection_fraction</th>\n",
       "      <th>platelets</th>\n",
       "      <th>serum_creatinine</th>\n",
       "      <th>serum_sodium</th>\n",
       "      <th>DEATH_EVENT</th>\n",
       "      <th>anemia_No</th>\n",
       "      <th>anemia_Yes</th>\n",
       "      <th>anemia_nan</th>\n",
       "      <th>diabetes_No</th>\n",
       "      <th>diabetes_Yes</th>\n",
       "      <th>diabetes_nan</th>\n",
       "      <th>high_blood_pressure_No</th>\n",
       "      <th>high_blood_pressure_Yes</th>\n",
       "      <th>high_blood_pressure_nan</th>\n",
       "      <th>sex_female</th>\n",
       "      <th>sex_male</th>\n",
       "      <th>sex_nan</th>\n",
       "      <th>current_smoker_No</th>\n",
       "      <th>current_smoker_Yes</th>\n",
       "      <th>current_smoker_nan</th>\n",
       "      <th>hospital_ACMH Hospital</th>\n",
       "      <th>hospital_AdventHealth</th>\n",
       "      <th>hospital_Altru Health System</th>\n",
       "      <th>hospital_Aspirus Riverview Hospital</th>\n",
       "      <th>hospital_Baptist Medical Center South</th>\n",
       "      <th>hospital_Brandywine Hospital</th>\n",
       "      <th>hospital_Brattleboro Memorial Hospital</th>\n",
       "      <th>hospital_Bridgeport Hospital</th>\n",
       "      <th>hospital_Dallas Regional Medical Center</th>\n",
       "      <th>hospital_Dameron Hospital</th>\n",
       "      <th>hospital_Danbury Hospital</th>\n",
       "      <th>hospital_Fairview Range</th>\n",
       "      <th>hospital_Holy Redeemer</th>\n",
       "      <th>hospital_nan</th>\n",
       "    </tr>\n",
       "  </thead>\n",
       "  <tbody>\n",
       "    <tr>\n",
       "      <th>0</th>\n",
       "      <td>75.0</td>\n",
       "      <td>582</td>\n",
       "      <td>20</td>\n",
       "      <td>265000.00</td>\n",
       "      <td>1.9</td>\n",
       "      <td>130</td>\n",
       "      <td>1</td>\n",
       "      <td>1</td>\n",
       "      <td>0</td>\n",
       "      <td>0</td>\n",
       "      <td>0</td>\n",
       "      <td>0</td>\n",
       "      <td>1</td>\n",
       "      <td>0</td>\n",
       "      <td>1</td>\n",
       "      <td>0</td>\n",
       "      <td>0</td>\n",
       "      <td>1</td>\n",
       "      <td>0</td>\n",
       "      <td>1</td>\n",
       "      <td>0</td>\n",
       "      <td>0</td>\n",
       "      <td>0</td>\n",
       "      <td>0</td>\n",
       "      <td>0</td>\n",
       "      <td>0</td>\n",
       "      <td>0</td>\n",
       "      <td>0</td>\n",
       "      <td>0</td>\n",
       "      <td>0</td>\n",
       "      <td>0</td>\n",
       "      <td>0</td>\n",
       "      <td>0</td>\n",
       "      <td>1</td>\n",
       "      <td>0</td>\n",
       "      <td>0</td>\n",
       "    </tr>\n",
       "    <tr>\n",
       "      <th>1</th>\n",
       "      <td>55.0</td>\n",
       "      <td>7861</td>\n",
       "      <td>38</td>\n",
       "      <td>263358.03</td>\n",
       "      <td>1.1</td>\n",
       "      <td>136</td>\n",
       "      <td>1</td>\n",
       "      <td>1</td>\n",
       "      <td>0</td>\n",
       "      <td>0</td>\n",
       "      <td>0</td>\n",
       "      <td>0</td>\n",
       "      <td>1</td>\n",
       "      <td>1</td>\n",
       "      <td>0</td>\n",
       "      <td>0</td>\n",
       "      <td>0</td>\n",
       "      <td>1</td>\n",
       "      <td>0</td>\n",
       "      <td>1</td>\n",
       "      <td>0</td>\n",
       "      <td>0</td>\n",
       "      <td>0</td>\n",
       "      <td>0</td>\n",
       "      <td>0</td>\n",
       "      <td>0</td>\n",
       "      <td>0</td>\n",
       "      <td>0</td>\n",
       "      <td>0</td>\n",
       "      <td>0</td>\n",
       "      <td>0</td>\n",
       "      <td>0</td>\n",
       "      <td>0</td>\n",
       "      <td>0</td>\n",
       "      <td>0</td>\n",
       "      <td>1</td>\n",
       "    </tr>\n",
       "    <tr>\n",
       "      <th>2</th>\n",
       "      <td>65.0</td>\n",
       "      <td>146</td>\n",
       "      <td>20</td>\n",
       "      <td>162000.00</td>\n",
       "      <td>1.3</td>\n",
       "      <td>129</td>\n",
       "      <td>1</td>\n",
       "      <td>1</td>\n",
       "      <td>0</td>\n",
       "      <td>0</td>\n",
       "      <td>0</td>\n",
       "      <td>0</td>\n",
       "      <td>1</td>\n",
       "      <td>1</td>\n",
       "      <td>0</td>\n",
       "      <td>0</td>\n",
       "      <td>0</td>\n",
       "      <td>1</td>\n",
       "      <td>0</td>\n",
       "      <td>0</td>\n",
       "      <td>1</td>\n",
       "      <td>0</td>\n",
       "      <td>0</td>\n",
       "      <td>0</td>\n",
       "      <td>0</td>\n",
       "      <td>0</td>\n",
       "      <td>0</td>\n",
       "      <td>0</td>\n",
       "      <td>0</td>\n",
       "      <td>0</td>\n",
       "      <td>0</td>\n",
       "      <td>0</td>\n",
       "      <td>0</td>\n",
       "      <td>0</td>\n",
       "      <td>0</td>\n",
       "      <td>1</td>\n",
       "    </tr>\n",
       "    <tr>\n",
       "      <th>3</th>\n",
       "      <td>50.0</td>\n",
       "      <td>111</td>\n",
       "      <td>20</td>\n",
       "      <td>210000.00</td>\n",
       "      <td>1.9</td>\n",
       "      <td>137</td>\n",
       "      <td>1</td>\n",
       "      <td>0</td>\n",
       "      <td>1</td>\n",
       "      <td>0</td>\n",
       "      <td>0</td>\n",
       "      <td>0</td>\n",
       "      <td>1</td>\n",
       "      <td>1</td>\n",
       "      <td>0</td>\n",
       "      <td>0</td>\n",
       "      <td>0</td>\n",
       "      <td>1</td>\n",
       "      <td>0</td>\n",
       "      <td>1</td>\n",
       "      <td>0</td>\n",
       "      <td>0</td>\n",
       "      <td>0</td>\n",
       "      <td>0</td>\n",
       "      <td>0</td>\n",
       "      <td>0</td>\n",
       "      <td>0</td>\n",
       "      <td>0</td>\n",
       "      <td>0</td>\n",
       "      <td>0</td>\n",
       "      <td>0</td>\n",
       "      <td>0</td>\n",
       "      <td>0</td>\n",
       "      <td>0</td>\n",
       "      <td>0</td>\n",
       "      <td>1</td>\n",
       "    </tr>\n",
       "    <tr>\n",
       "      <th>4</th>\n",
       "      <td>65.0</td>\n",
       "      <td>160</td>\n",
       "      <td>20</td>\n",
       "      <td>327000.00</td>\n",
       "      <td>2.7</td>\n",
       "      <td>116</td>\n",
       "      <td>1</td>\n",
       "      <td>0</td>\n",
       "      <td>1</td>\n",
       "      <td>0</td>\n",
       "      <td>0</td>\n",
       "      <td>0</td>\n",
       "      <td>1</td>\n",
       "      <td>1</td>\n",
       "      <td>0</td>\n",
       "      <td>0</td>\n",
       "      <td>1</td>\n",
       "      <td>0</td>\n",
       "      <td>0</td>\n",
       "      <td>1</td>\n",
       "      <td>0</td>\n",
       "      <td>0</td>\n",
       "      <td>0</td>\n",
       "      <td>0</td>\n",
       "      <td>0</td>\n",
       "      <td>0</td>\n",
       "      <td>0</td>\n",
       "      <td>1</td>\n",
       "      <td>0</td>\n",
       "      <td>0</td>\n",
       "      <td>0</td>\n",
       "      <td>0</td>\n",
       "      <td>0</td>\n",
       "      <td>0</td>\n",
       "      <td>0</td>\n",
       "      <td>0</td>\n",
       "    </tr>\n",
       "    <tr>\n",
       "      <th>...</th>\n",
       "      <td>...</td>\n",
       "      <td>...</td>\n",
       "      <td>...</td>\n",
       "      <td>...</td>\n",
       "      <td>...</td>\n",
       "      <td>...</td>\n",
       "      <td>...</td>\n",
       "      <td>...</td>\n",
       "      <td>...</td>\n",
       "      <td>...</td>\n",
       "      <td>...</td>\n",
       "      <td>...</td>\n",
       "      <td>...</td>\n",
       "      <td>...</td>\n",
       "      <td>...</td>\n",
       "      <td>...</td>\n",
       "      <td>...</td>\n",
       "      <td>...</td>\n",
       "      <td>...</td>\n",
       "      <td>...</td>\n",
       "      <td>...</td>\n",
       "      <td>...</td>\n",
       "      <td>...</td>\n",
       "      <td>...</td>\n",
       "      <td>...</td>\n",
       "      <td>...</td>\n",
       "      <td>...</td>\n",
       "      <td>...</td>\n",
       "      <td>...</td>\n",
       "      <td>...</td>\n",
       "      <td>...</td>\n",
       "      <td>...</td>\n",
       "      <td>...</td>\n",
       "      <td>...</td>\n",
       "      <td>...</td>\n",
       "      <td>...</td>\n",
       "    </tr>\n",
       "    <tr>\n",
       "      <th>294</th>\n",
       "      <td>62.0</td>\n",
       "      <td>61</td>\n",
       "      <td>38</td>\n",
       "      <td>155000.00</td>\n",
       "      <td>1.1</td>\n",
       "      <td>143</td>\n",
       "      <td>0</td>\n",
       "      <td>1</td>\n",
       "      <td>0</td>\n",
       "      <td>0</td>\n",
       "      <td>0</td>\n",
       "      <td>0</td>\n",
       "      <td>1</td>\n",
       "      <td>0</td>\n",
       "      <td>1</td>\n",
       "      <td>0</td>\n",
       "      <td>0</td>\n",
       "      <td>1</td>\n",
       "      <td>0</td>\n",
       "      <td>0</td>\n",
       "      <td>1</td>\n",
       "      <td>0</td>\n",
       "      <td>0</td>\n",
       "      <td>0</td>\n",
       "      <td>0</td>\n",
       "      <td>0</td>\n",
       "      <td>0</td>\n",
       "      <td>0</td>\n",
       "      <td>0</td>\n",
       "      <td>0</td>\n",
       "      <td>0</td>\n",
       "      <td>1</td>\n",
       "      <td>0</td>\n",
       "      <td>0</td>\n",
       "      <td>0</td>\n",
       "      <td>0</td>\n",
       "    </tr>\n",
       "    <tr>\n",
       "      <th>295</th>\n",
       "      <td>55.0</td>\n",
       "      <td>1820</td>\n",
       "      <td>38</td>\n",
       "      <td>270000.00</td>\n",
       "      <td>1.2</td>\n",
       "      <td>139</td>\n",
       "      <td>0</td>\n",
       "      <td>1</td>\n",
       "      <td>0</td>\n",
       "      <td>0</td>\n",
       "      <td>0</td>\n",
       "      <td>0</td>\n",
       "      <td>1</td>\n",
       "      <td>1</td>\n",
       "      <td>0</td>\n",
       "      <td>0</td>\n",
       "      <td>1</td>\n",
       "      <td>0</td>\n",
       "      <td>0</td>\n",
       "      <td>1</td>\n",
       "      <td>0</td>\n",
       "      <td>0</td>\n",
       "      <td>0</td>\n",
       "      <td>0</td>\n",
       "      <td>0</td>\n",
       "      <td>0</td>\n",
       "      <td>0</td>\n",
       "      <td>0</td>\n",
       "      <td>0</td>\n",
       "      <td>0</td>\n",
       "      <td>0</td>\n",
       "      <td>0</td>\n",
       "      <td>0</td>\n",
       "      <td>0</td>\n",
       "      <td>0</td>\n",
       "      <td>1</td>\n",
       "    </tr>\n",
       "    <tr>\n",
       "      <th>296</th>\n",
       "      <td>45.0</td>\n",
       "      <td>2060</td>\n",
       "      <td>60</td>\n",
       "      <td>742000.00</td>\n",
       "      <td>0.8</td>\n",
       "      <td>138</td>\n",
       "      <td>0</td>\n",
       "      <td>1</td>\n",
       "      <td>0</td>\n",
       "      <td>0</td>\n",
       "      <td>0</td>\n",
       "      <td>0</td>\n",
       "      <td>1</td>\n",
       "      <td>1</td>\n",
       "      <td>0</td>\n",
       "      <td>0</td>\n",
       "      <td>1</td>\n",
       "      <td>0</td>\n",
       "      <td>0</td>\n",
       "      <td>1</td>\n",
       "      <td>0</td>\n",
       "      <td>0</td>\n",
       "      <td>0</td>\n",
       "      <td>0</td>\n",
       "      <td>0</td>\n",
       "      <td>0</td>\n",
       "      <td>0</td>\n",
       "      <td>0</td>\n",
       "      <td>0</td>\n",
       "      <td>0</td>\n",
       "      <td>0</td>\n",
       "      <td>0</td>\n",
       "      <td>0</td>\n",
       "      <td>0</td>\n",
       "      <td>0</td>\n",
       "      <td>1</td>\n",
       "    </tr>\n",
       "    <tr>\n",
       "      <th>297</th>\n",
       "      <td>45.0</td>\n",
       "      <td>2413</td>\n",
       "      <td>38</td>\n",
       "      <td>140000.00</td>\n",
       "      <td>1.4</td>\n",
       "      <td>140</td>\n",
       "      <td>0</td>\n",
       "      <td>1</td>\n",
       "      <td>0</td>\n",
       "      <td>0</td>\n",
       "      <td>0</td>\n",
       "      <td>0</td>\n",
       "      <td>1</td>\n",
       "      <td>1</td>\n",
       "      <td>0</td>\n",
       "      <td>0</td>\n",
       "      <td>0</td>\n",
       "      <td>1</td>\n",
       "      <td>0</td>\n",
       "      <td>0</td>\n",
       "      <td>1</td>\n",
       "      <td>0</td>\n",
       "      <td>0</td>\n",
       "      <td>0</td>\n",
       "      <td>0</td>\n",
       "      <td>0</td>\n",
       "      <td>0</td>\n",
       "      <td>0</td>\n",
       "      <td>0</td>\n",
       "      <td>0</td>\n",
       "      <td>0</td>\n",
       "      <td>0</td>\n",
       "      <td>0</td>\n",
       "      <td>0</td>\n",
       "      <td>0</td>\n",
       "      <td>1</td>\n",
       "    </tr>\n",
       "    <tr>\n",
       "      <th>298</th>\n",
       "      <td>50.0</td>\n",
       "      <td>196</td>\n",
       "      <td>45</td>\n",
       "      <td>395000.00</td>\n",
       "      <td>1.6</td>\n",
       "      <td>136</td>\n",
       "      <td>0</td>\n",
       "      <td>1</td>\n",
       "      <td>0</td>\n",
       "      <td>0</td>\n",
       "      <td>0</td>\n",
       "      <td>0</td>\n",
       "      <td>1</td>\n",
       "      <td>1</td>\n",
       "      <td>0</td>\n",
       "      <td>0</td>\n",
       "      <td>0</td>\n",
       "      <td>1</td>\n",
       "      <td>0</td>\n",
       "      <td>0</td>\n",
       "      <td>1</td>\n",
       "      <td>0</td>\n",
       "      <td>0</td>\n",
       "      <td>0</td>\n",
       "      <td>0</td>\n",
       "      <td>0</td>\n",
       "      <td>0</td>\n",
       "      <td>0</td>\n",
       "      <td>0</td>\n",
       "      <td>1</td>\n",
       "      <td>0</td>\n",
       "      <td>0</td>\n",
       "      <td>0</td>\n",
       "      <td>0</td>\n",
       "      <td>0</td>\n",
       "      <td>0</td>\n",
       "    </tr>\n",
       "  </tbody>\n",
       "</table>\n",
       "<p>297 rows × 36 columns</p>\n",
       "</div>"
      ],
      "text/plain": [
       "      age  creatinine_phosphokinase  ejection_fraction  platelets  \\\n",
       "0    75.0                       582                 20  265000.00   \n",
       "1    55.0                      7861                 38  263358.03   \n",
       "2    65.0                       146                 20  162000.00   \n",
       "3    50.0                       111                 20  210000.00   \n",
       "4    65.0                       160                 20  327000.00   \n",
       "..    ...                       ...                ...        ...   \n",
       "294  62.0                        61                 38  155000.00   \n",
       "295  55.0                      1820                 38  270000.00   \n",
       "296  45.0                      2060                 60  742000.00   \n",
       "297  45.0                      2413                 38  140000.00   \n",
       "298  50.0                       196                 45  395000.00   \n",
       "\n",
       "     serum_creatinine  serum_sodium  DEATH_EVENT  anemia_No  anemia_Yes  \\\n",
       "0                 1.9           130            1          1           0   \n",
       "1                 1.1           136            1          1           0   \n",
       "2                 1.3           129            1          1           0   \n",
       "3                 1.9           137            1          0           1   \n",
       "4                 2.7           116            1          0           1   \n",
       "..                ...           ...          ...        ...         ...   \n",
       "294               1.1           143            0          1           0   \n",
       "295               1.2           139            0          1           0   \n",
       "296               0.8           138            0          1           0   \n",
       "297               1.4           140            0          1           0   \n",
       "298               1.6           136            0          1           0   \n",
       "\n",
       "     anemia_nan  diabetes_No  diabetes_Yes  diabetes_nan  \\\n",
       "0             0            0             0             1   \n",
       "1             0            0             0             1   \n",
       "2             0            0             0             1   \n",
       "3             0            0             0             1   \n",
       "4             0            0             0             1   \n",
       "..          ...          ...           ...           ...   \n",
       "294           0            0             0             1   \n",
       "295           0            0             0             1   \n",
       "296           0            0             0             1   \n",
       "297           0            0             0             1   \n",
       "298           0            0             0             1   \n",
       "\n",
       "     high_blood_pressure_No  high_blood_pressure_Yes  high_blood_pressure_nan  \\\n",
       "0                         0                        1                        0   \n",
       "1                         1                        0                        0   \n",
       "2                         1                        0                        0   \n",
       "3                         1                        0                        0   \n",
       "4                         1                        0                        0   \n",
       "..                      ...                      ...                      ...   \n",
       "294                       0                        1                        0   \n",
       "295                       1                        0                        0   \n",
       "296                       1                        0                        0   \n",
       "297                       1                        0                        0   \n",
       "298                       1                        0                        0   \n",
       "\n",
       "     sex_female  sex_male  sex_nan  current_smoker_No  current_smoker_Yes  \\\n",
       "0             0         1        0                  1                   0   \n",
       "1             0         1        0                  1                   0   \n",
       "2             0         1        0                  0                   1   \n",
       "3             0         1        0                  1                   0   \n",
       "4             1         0        0                  1                   0   \n",
       "..          ...       ...      ...                ...                 ...   \n",
       "294           0         1        0                  0                   1   \n",
       "295           1         0        0                  1                   0   \n",
       "296           1         0        0                  1                   0   \n",
       "297           0         1        0                  0                   1   \n",
       "298           0         1        0                  0                   1   \n",
       "\n",
       "     current_smoker_nan  hospital_ACMH Hospital  hospital_AdventHealth  \\\n",
       "0                     0                       0                      0   \n",
       "1                     0                       0                      0   \n",
       "2                     0                       0                      0   \n",
       "3                     0                       0                      0   \n",
       "4                     0                       0                      0   \n",
       "..                  ...                     ...                    ...   \n",
       "294                   0                       0                      0   \n",
       "295                   0                       0                      0   \n",
       "296                   0                       0                      0   \n",
       "297                   0                       0                      0   \n",
       "298                   0                       0                      0   \n",
       "\n",
       "     hospital_Altru Health System  hospital_Aspirus Riverview Hospital  \\\n",
       "0                               0                                    0   \n",
       "1                               0                                    0   \n",
       "2                               0                                    0   \n",
       "3                               0                                    0   \n",
       "4                               0                                    0   \n",
       "..                            ...                                  ...   \n",
       "294                             0                                    0   \n",
       "295                             0                                    0   \n",
       "296                             0                                    0   \n",
       "297                             0                                    0   \n",
       "298                             0                                    0   \n",
       "\n",
       "     hospital_Baptist Medical Center South  hospital_Brandywine Hospital  \\\n",
       "0                                        0                             0   \n",
       "1                                        0                             0   \n",
       "2                                        0                             0   \n",
       "3                                        0                             0   \n",
       "4                                        0                             1   \n",
       "..                                     ...                           ...   \n",
       "294                                      0                             0   \n",
       "295                                      0                             0   \n",
       "296                                      0                             0   \n",
       "297                                      0                             0   \n",
       "298                                      0                             0   \n",
       "\n",
       "     hospital_Brattleboro Memorial Hospital  hospital_Bridgeport Hospital  \\\n",
       "0                                         0                             0   \n",
       "1                                         0                             0   \n",
       "2                                         0                             0   \n",
       "3                                         0                             0   \n",
       "4                                         0                             0   \n",
       "..                                      ...                           ...   \n",
       "294                                       0                             0   \n",
       "295                                       0                             0   \n",
       "296                                       0                             0   \n",
       "297                                       0                             0   \n",
       "298                                       0                             1   \n",
       "\n",
       "     hospital_Dallas Regional Medical Center  hospital_Dameron Hospital  \\\n",
       "0                                          0                          0   \n",
       "1                                          0                          0   \n",
       "2                                          0                          0   \n",
       "3                                          0                          0   \n",
       "4                                          0                          0   \n",
       "..                                       ...                        ...   \n",
       "294                                        0                          1   \n",
       "295                                        0                          0   \n",
       "296                                        0                          0   \n",
       "297                                        0                          0   \n",
       "298                                        0                          0   \n",
       "\n",
       "     hospital_Danbury Hospital  hospital_Fairview Range  \\\n",
       "0                            0                        1   \n",
       "1                            0                        0   \n",
       "2                            0                        0   \n",
       "3                            0                        0   \n",
       "4                            0                        0   \n",
       "..                         ...                      ...   \n",
       "294                          0                        0   \n",
       "295                          0                        0   \n",
       "296                          0                        0   \n",
       "297                          0                        0   \n",
       "298                          0                        0   \n",
       "\n",
       "     hospital_Holy Redeemer  hospital_nan  \n",
       "0                         0             0  \n",
       "1                         0             1  \n",
       "2                         0             1  \n",
       "3                         0             1  \n",
       "4                         0             0  \n",
       "..                      ...           ...  \n",
       "294                       0             0  \n",
       "295                       0             1  \n",
       "296                       0             1  \n",
       "297                       0             1  \n",
       "298                       0             0  \n",
       "\n",
       "[297 rows x 36 columns]"
      ]
     },
     "execution_count": 21,
     "metadata": {},
     "output_type": "execute_result"
    }
   ],
   "source": [
    "#Applying get_dummies to convert categorical variable into dummy/indicator variables\n",
    "#data = pd.get_dummies(data)\n",
    "data = pd.get_dummies(data, dummy_na=True)\n",
    "data"
   ]
  },
  {
   "cell_type": "code",
   "execution_count": 22,
   "metadata": {
    "scrolled": true
   },
   "outputs": [],
   "source": [
    "#Removing all of the other columns that are not valuable\n",
    "index = data.index\n",
    "for i in data.columns:\n",
    "    if ('_nan' in i):\n",
    "        if (data[i].sum() == 0) or (data[i].sum() == len(index)):\n",
    "            data = data.drop([i],axis=1) "
   ]
  },
  {
   "cell_type": "markdown",
   "metadata": {},
   "source": [
    "*Pre-processing changes and decisions:* <br>\n",
    "1. The data seems to be an imbalanced data set with missing values and a few noisy data points.  The noisy data points from ejection_fraction were removed.  \n",
    "2. Changing all of the male and females to be spelled the same.  \n",
    "3. The column 'room_number' and the patient identifier were removed because they are independent and do not provide valuable information in death count. \n",
    "4. For the sake of time and simplicity, get_dummies was used to convert the rest of the categorical variables into indicator variables. These categorical variables have null values, but get_dummies will take care of this by creating a column for the null values. For example, 'diabetes_nan' - with this, we will not need to impute values for it later on. \n",
    "5. Any variables ending with '_nan' that are all 0s or all 1s have also been removed, as they are not valuable either. "
   ]
  },
  {
   "cell_type": "markdown",
   "metadata": {},
   "source": [
    "**Splitting data**"
   ]
  },
  {
   "cell_type": "code",
   "execution_count": 23,
   "metadata": {},
   "outputs": [],
   "source": [
    "#split the data\n",
    "X = data.drop(['DEATH_EVENT'],axis=1) #selecting all rows except for death event.\n",
    "y = data['DEATH_EVENT']"
   ]
  },
  {
   "cell_type": "markdown",
   "metadata": {},
   "source": [
    "**Bootstrapping** <br>\n",
    "With the dataset being quite small, I have decided to do some bootstrapping on it. "
   ]
  },
  {
   "cell_type": "code",
   "execution_count": 24,
   "metadata": {},
   "outputs": [],
   "source": [
    "#Creating a bootstrap for X_test and y_test\n",
    "#Splitting the data\n",
    "X_train, X_test, y_train, y_test = train_test_split(X, y, test_size=.30, random_state=42)\n",
    "\n",
    "data_split_test = []\n",
    "for i in range(0, 100): #bootstrapping, creating 100 different training and testing sets\n",
    "    S1_test, S1_label = resample(X_test, y_test, random_state=i) #creating different random_states\n",
    "    data_split_test.append([S1_test, S1_label])"
   ]
  },
  {
   "cell_type": "markdown",
   "metadata": {},
   "source": [
    "**Data Analysis**"
   ]
  },
  {
   "cell_type": "code",
   "execution_count": 25,
   "metadata": {},
   "outputs": [
    {
     "data": {
      "text/plain": [
       "(207, 31)"
      ]
     },
     "execution_count": 25,
     "metadata": {},
     "output_type": "execute_result"
    }
   ],
   "source": [
    "X_train.shape"
   ]
  },
  {
   "cell_type": "code",
   "execution_count": 26,
   "metadata": {
    "scrolled": true
   },
   "outputs": [
    {
     "data": {
      "text/plain": [
       "age                                         8\n",
       "creatinine_phosphokinase                    0\n",
       "ejection_fraction                           0\n",
       "platelets                                  22\n",
       "serum_creatinine                            0\n",
       "serum_sodium                                0\n",
       "anemia_No                                   0\n",
       "anemia_Yes                                  0\n",
       "diabetes_No                                 0\n",
       "diabetes_Yes                                0\n",
       "diabetes_nan                                0\n",
       "high_blood_pressure_No                      0\n",
       "high_blood_pressure_Yes                     0\n",
       "sex_female                                  0\n",
       "sex_male                                    0\n",
       "current_smoker_No                           0\n",
       "current_smoker_Yes                          0\n",
       "hospital_ACMH Hospital                      0\n",
       "hospital_AdventHealth                       0\n",
       "hospital_Altru Health System                0\n",
       "hospital_Aspirus Riverview Hospital         0\n",
       "hospital_Baptist Medical Center South       0\n",
       "hospital_Brandywine Hospital                0\n",
       "hospital_Brattleboro Memorial Hospital      0\n",
       "hospital_Bridgeport Hospital                0\n",
       "hospital_Dallas Regional Medical Center     0\n",
       "hospital_Dameron Hospital                   0\n",
       "hospital_Danbury Hospital                   0\n",
       "hospital_Fairview Range                     0\n",
       "hospital_Holy Redeemer                      0\n",
       "hospital_nan                                0\n",
       "dtype: int64"
      ]
     },
     "execution_count": 26,
     "metadata": {},
     "output_type": "execute_result"
    }
   ],
   "source": [
    "X_train.isnull().sum()"
   ]
  },
  {
   "cell_type": "markdown",
   "metadata": {},
   "source": [
    "**Imputing**"
   ]
  },
  {
   "cell_type": "code",
   "execution_count": 27,
   "metadata": {
    "scrolled": true
   },
   "outputs": [],
   "source": [
    "#imputing values for age and platelets\n",
    "imp_mean = SimpleImputer(missing_values=np.NaN, strategy='mean')\n",
    "\n",
    "#fit the model with X_train\n",
    "imp_mean.fit(X_train)\n",
    "\n",
    "#transform with X_train\n",
    "X_train=imp_mean.transform(X_train) \n",
    "\n",
    "#transform with data subsets \n",
    "for i in range(0,100):\n",
    "    data_split_test[i][0] = imp_mean.transform(data_split_test[i][0])"
   ]
  },
  {
   "cell_type": "markdown",
   "metadata": {},
   "source": [
    "*Note:* The missing null values have been imputed with the mean for each feature. "
   ]
  },
  {
   "cell_type": "code",
   "execution_count": 28,
   "metadata": {},
   "outputs": [],
   "source": [
    "#converting X_train from np.array back to dataframe\n",
    "X_train = pd.DataFrame(data=X_train, columns=X.columns)\n",
    "\n",
    "#converting subsets from np.array back to dataframe\n",
    "for i in range(0,100):\n",
    "    data_split_test[i][0] = pd.DataFrame(data=data_split_test[i][0], columns=X.columns)"
   ]
  },
  {
   "cell_type": "markdown",
   "metadata": {},
   "source": [
    "**Standardizing**"
   ]
  },
  {
   "cell_type": "code",
   "execution_count": 29,
   "metadata": {},
   "outputs": [],
   "source": [
    "#standardization\n",
    "scaler = StandardScaler()\n",
    "\n",
    "#fit the model with X_train\n",
    "scaler.fit(X_train)\n",
    "\n",
    "#transform the model with X_train and all the bootstrap subsets\n",
    "X_train = scaler.transform(X_train)\n",
    "\n",
    "for i in range(0,100):\n",
    "    data_split_test[i][0] = scaler.transform(data_split_test[i][0])"
   ]
  },
  {
   "cell_type": "markdown",
   "metadata": {},
   "source": [
    "**Stratified KFold**<br>\n",
    "Data is imbalanced so we will apply stratified Kfold."
   ]
  },
  {
   "cell_type": "code",
   "execution_count": 30,
   "metadata": {},
   "outputs": [],
   "source": [
    "#stratified KFold\n",
    "skfolds = StratifiedKFold(n_splits=5,shuffle=True,random_state=42)"
   ]
  },
  {
   "cell_type": "markdown",
   "metadata": {},
   "source": [
    "**Logistic Regression**"
   ]
  },
  {
   "cell_type": "code",
   "execution_count": 31,
   "metadata": {
    "scrolled": true
   },
   "outputs": [
    {
     "name": "stdout",
     "output_type": "stream",
     "text": [
      "best parameters:  {'penalty': 'l1', 'C': 7.742636826811269}\n",
      "best model : LogisticRegression(C=7.742636826811269, penalty='l1', solver='liblinear')\n",
      "best score for training: 0.7293844367015099\n"
     ]
    }
   ],
   "source": [
    "# Create regularization penalty space\n",
    "penalty = ['l1', 'l2']\n",
    "\n",
    "# Create regularization hyperparameter space\n",
    "C = np.logspace(0, 4, 10)\n",
    "\n",
    "# Create hyperparameter options\n",
    "hyperparameters = dict(C=C, penalty=penalty)\n",
    "\n",
    "# Create randomized search with skfold iterations\n",
    "clf = RandomizedSearchCV(LogisticRegression(solver='liblinear'), hyperparameters, scoring='f1_micro', cv=skfolds, random_state=1)\n",
    "\n",
    "# Fit random search\n",
    "best_model = clf.fit(X_train, y_train)\n",
    "\n",
    "# print best parameter after tuning\n",
    "print('best parameters: ', best_model.best_params_)\n",
    "  \n",
    "# print how our model looks after hyper-parameter tuning\n",
    "print('best model :', best_model.best_estimator_)\n",
    "\n",
    "#print best averaged score between all the skfolds\n",
    "print('best score for training:', best_model.best_score_)\n",
    "\n",
    "# Predict target vector\n",
    "#iterate through 100 subsets predict with each data_split_test\n",
    "lr_score = []\n",
    "for i in range(0,100):    \n",
    "    lr_y_pred = best_model.predict(data_split_test[i][0]) \n",
    "    score = f1_score(lr_y_pred, data_split_test[i][1], average='micro')\n",
    "    lr_score.append(score)"
   ]
  },
  {
   "cell_type": "code",
   "execution_count": 32,
   "metadata": {},
   "outputs": [
    {
     "data": {
      "text/plain": [
       "0.7193333333333334"
      ]
     },
     "execution_count": 32,
     "metadata": {},
     "output_type": "execute_result"
    }
   ],
   "source": [
    "#taking the average scores of all the bootstrap subsets\n",
    "lr_model = sum(lr_score)/len(lr_score)\n",
    "lr_model"
   ]
  },
  {
   "cell_type": "markdown",
   "metadata": {},
   "source": [
    "**Support Vector Machine**\n"
   ]
  },
  {
   "cell_type": "code",
   "execution_count": 33,
   "metadata": {},
   "outputs": [
    {
     "name": "stdout",
     "output_type": "stream",
     "text": [
      "best parameters:  {'kernel': 'rbf', 'gamma': 0.001, 'C': 100}\n",
      "best model : SVC(C=100, gamma=0.001)\n",
      "best score for training: 0.7292682926829268\n"
     ]
    }
   ],
   "source": [
    "parameters = {'C': [0.1, 1, 10, 100, 1000], \n",
    "              'gamma': [1, 0.1, 0.01, 0.001, 0.0001],\n",
    "              'kernel': ['rbf']} \n",
    "\n",
    "#randomized search with SVC\n",
    "svc_clf = RandomizedSearchCV(SVC(), parameters, scoring='f1_micro', cv=skfolds, random_state=1)\n",
    "\n",
    "#fit model on training data\n",
    "svc_model = svc_clf.fit(X_train, y_train)\n",
    "\n",
    "# print best parameter after tuning\n",
    "print('best parameters: ', svc_model.best_params_)\n",
    "  \n",
    "# print how our model looks after hyper-parameter tuning\n",
    "print('best model :', svc_model.best_estimator_)\n",
    "\n",
    "#print best averaged score between all the skfolds\n",
    "print('best score for training:', svc_model.best_score_)\n",
    "\n",
    "#create list\n",
    "svm_score = []\n",
    "for i in range(0,100):    \n",
    "    svm_pred = svc_model.predict(data_split_test[i][0])\n",
    "    score = f1_score(svm_pred, data_split_test[i][1], average='micro')\n",
    "    svm_score.append(score)"
   ]
  },
  {
   "cell_type": "code",
   "execution_count": 34,
   "metadata": {},
   "outputs": [
    {
     "data": {
      "text/plain": [
       "0.7055555555555556"
      ]
     },
     "execution_count": 34,
     "metadata": {},
     "output_type": "execute_result"
    }
   ],
   "source": [
    "#taking the average scores of all the bootstrap subsets\n",
    "svm_model = (sum(svm_score)/len(svm_score))\n",
    "svm_model"
   ]
  },
  {
   "cell_type": "markdown",
   "metadata": {},
   "source": [
    "**RandomForest**"
   ]
  },
  {
   "cell_type": "code",
   "execution_count": 35,
   "metadata": {
    "scrolled": true
   },
   "outputs": [
    {
     "name": "stdout",
     "output_type": "stream",
     "text": [
      "best parameters:  {'n_estimators': 130, 'min_samples_split': 2, 'min_samples_leaf': 2, 'max_features': 'sqrt', 'max_depth': 30, 'bootstrap': True}\n",
      "best model : RandomForestClassifier(max_depth=30, max_features='sqrt', min_samples_leaf=2,\n",
      "                       n_estimators=130, random_state=35)\n",
      "best score for training: 0.7875725900116144\n"
     ]
    }
   ],
   "source": [
    "random_grid = {'bootstrap': [True, False],\n",
    "               'max_depth': [10, 20, 30, 40, 50, 60, 70, 80, 90, 100, 110, None],\n",
    "               'max_features': ['auto', 'sqrt'],\n",
    "               'min_samples_leaf': [1, 2, 4],\n",
    "               'min_samples_split': [2, 5, 10],\n",
    "               'n_estimators': [130, 180, 230]}\n",
    "\n",
    "rf = RandomForestClassifier(random_state = 35)\n",
    "rf_clf = RandomizedSearchCV(estimator = rf, param_distributions = random_grid, scoring='f1_micro', cv=skfolds, random_state=1)\n",
    "\n",
    "#fit model\n",
    "rf_model = rf_clf.fit(X_train, y_train)\n",
    "\n",
    "# print best parameter after tuning\n",
    "print('best parameters: ', rf_model.best_params_)\n",
    "  \n",
    "# print how our model looks after hyper-parameter tuning\n",
    "print('best model :', rf_model.best_estimator_)\n",
    "\n",
    "#print best averaged score between all the skfolds\n",
    "print('best score for training:', rf_model.best_score_)\n",
    "\n",
    "rf_score = []\n",
    "for i in range(0,100):\n",
    "    #print(i)\n",
    "    rf_y_pred = rf_model.predict(data_split_test[i][0])\n",
    "    score = f1_score(rf_y_pred, data_split_test[i][1], average='micro')\n",
    "    rf_score.append(score)"
   ]
  },
  {
   "cell_type": "code",
   "execution_count": 36,
   "metadata": {},
   "outputs": [
    {
     "data": {
      "text/plain": [
       "0.7291111111111112"
      ]
     },
     "execution_count": 36,
     "metadata": {},
     "output_type": "execute_result"
    }
   ],
   "source": [
    "#taking the average scores of all the bootstrap subsets\n",
    "randomforest_model = (sum(rf_score)/len(rf_score))\n",
    "randomforest_model"
   ]
  },
  {
   "cell_type": "code",
   "execution_count": 37,
   "metadata": {},
   "outputs": [
    {
     "name": "stdout",
     "output_type": "stream",
     "text": [
      " scores for each model:\n",
      " randomforest_model = 0.7291111111111112 svm_model = 0.7055555555555556 lr_model = 0.7193333333333334\n"
     ]
    }
   ],
   "source": [
    "print(' scores for each model:\\n', f'{randomforest_model = } {svm_model = } {lr_model = }')"
   ]
  },
  {
   "cell_type": "markdown",
   "metadata": {},
   "source": [
    "*Model Analysis:*<br>\n",
    "The data were tested on 3 different models: Logistic regression, SVM, and RandomForestClassifier.  Each of the 100 subsets created from bootstrapping were predicted, scored, and then the average was calculated for an overall score of the model.  According to the caclulated test scores, the best model is random forest classifier with a 72.9% f1 micro average score. Because our dataset was imbalanced, accuracy is not a proper measure since it does not distinguish between numbers of correctly classified examples of different classes, therfore f1-micro average score was selected for the multiclass imbalanced dataset.\n",
    "\n",
    "With results of >70% f1 in training and testing, I do not suspect that there is overfitting, though it is to note that the dataset still needs a plotted learning curve to evaluate for underfitting and overfitting of the training and testing.  In addition to this, an application of VIF to assess the severity of the multicollinearity in regression analysis is also necessary, but due to the time constraint of this exercise those steps were not applied. \n",
    "\n"
   ]
  },
  {
   "cell_type": "code",
   "execution_count": null,
   "metadata": {},
   "outputs": [],
   "source": []
  },
  {
   "cell_type": "code",
   "execution_count": null,
   "metadata": {},
   "outputs": [],
   "source": []
  }
 ],
 "metadata": {
  "kernelspec": {
   "display_name": "Python 3.8.5 ('base')",
   "language": "python",
   "name": "python3"
  },
  "language_info": {
   "codemirror_mode": {
    "name": "ipython",
    "version": 3
   },
   "file_extension": ".py",
   "mimetype": "text/x-python",
   "name": "python",
   "nbconvert_exporter": "python",
   "pygments_lexer": "ipython3",
   "version": "3.8.5"
  },
  "toc": {
   "base_numbering": 1,
   "nav_menu": {},
   "number_sections": true,
   "sideBar": true,
   "skip_h1_title": false,
   "title_cell": "Table of Contents",
   "title_sidebar": "Contents",
   "toc_cell": false,
   "toc_position": {},
   "toc_section_display": true,
   "toc_window_display": false
  },
  "vscode": {
   "interpreter": {
    "hash": "ad2bdc8ecc057115af97d19610ffacc2b4e99fae6737bb82f5d7fb13d2f2c186"
   }
  }
 },
 "nbformat": 4,
 "nbformat_minor": 4
}
